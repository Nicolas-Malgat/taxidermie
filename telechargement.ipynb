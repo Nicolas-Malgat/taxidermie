{
 "metadata": {
  "language_info": {
   "codemirror_mode": {
    "name": "ipython",
    "version": 3
   },
   "file_extension": ".py",
   "mimetype": "text/x-python",
   "name": "python",
   "nbconvert_exporter": "python",
   "pygments_lexer": "ipython3",
   "version": "3.7.10"
  },
  "orig_nbformat": 2,
  "kernelspec": {
   "name": "python3710jvsc74a57bd002391554d15ee54b93935ec41124d90fc7ff686c339577a3d4f7c9a886f93d13",
   "display_name": "Python 3.7.10 64-bit ('sandbox': conda)"
  }
 },
 "nbformat": 4,
 "nbformat_minor": 2,
 "cells": [
  {
   "cell_type": "code",
   "execution_count": 2,
   "metadata": {},
   "outputs": [],
   "source": [
    "from modules.loader import Loader\n",
    "from modules.splitting_csv import print_nb_row"
   ]
  },
  {
   "source": [
    "# Téléchargement des données"
   ],
   "cell_type": "markdown",
   "metadata": {}
  },
  {
   "cell_type": "code",
   "execution_count": 3,
   "metadata": {},
   "outputs": [
    {
     "output_type": "stream",
     "name": "stdout",
     "text": [
      "Le fichier existe déjà\n"
     ]
    },
    {
     "output_type": "execute_result",
     "data": {
      "text/plain": [
       "'brief-12.zip'"
      ]
     },
     "metadata": {},
     "execution_count": 3
    }
   ],
   "source": [
    "loader = Loader(\n",
    "    \"https://stdatalake012.blob.core.windows.net/public/brief-12.zip\",\n",
    "    './datas/ZIP/',\n",
    "    './datas/RAW/'\n",
    ")\n",
    "loader.ensure_data_loaded()"
   ]
  },
  {
   "cell_type": "code",
   "execution_count": null,
   "metadata": {},
   "outputs": [],
   "source": [
    "print_nb_row('datas/RAW/')"
   ]
  }
 ]
}